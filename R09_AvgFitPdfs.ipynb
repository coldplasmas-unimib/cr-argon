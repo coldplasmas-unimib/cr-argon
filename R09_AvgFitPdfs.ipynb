{
 "cells": [
  {
   "cell_type": "code",
   "execution_count": 1,
   "id": "95c21021",
   "metadata": {},
   "outputs": [],
   "source": [
    "from Model import Minimizer, UFloat, Levels\n",
    "import numpy as np\n",
    "import pandas as pd\n",
    "from Model.utilities import n_, s_\n",
    "from tqdm.auto import tqdm\n",
    "from PlotUtils.saveToCsv import saveToCsv, getNextFilename\n",
    "import re\n",
    "from PlotUtils import confel\n",
    "\n",
    "from PlotUtils import errsPlot as plt, splt\n",
    "\n",
    "splt.set_export_folder(\".\")"
   ]
  },
  {
   "cell_type": "code",
   "execution_count": 2,
   "id": "2d74461e",
   "metadata": {},
   "outputs": [],
   "source": [
    "n_g = 2.687e25\n",
    "T_g = 300\n",
    "\n",
    "real_value = {\n",
    "    'T_e' : 2,\n",
    "    'f_e' : 10**-5\n",
    "}"
   ]
  },
  {
   "cell_type": "code",
   "execution_count": 3,
   "id": "58366d06",
   "metadata": {},
   "outputs": [
    {
     "name": "stdout",
     "output_type": "stream",
     "text": [
      "Initializing class Levels\n"
     ]
    }
   ],
   "source": [
    "data = pd.read_csv('exports/SimulatedData.csv', index_col = False).to_dict('list')\n",
    "\n",
    "data['density'] = [ UFloat.UFloat( n, s ) for n, s in zip( data['density_n'], data['density_s'] ) ]\n",
    "data['label_idx'] = Levels.Levels().namesToIdxs( data['label'] )"
   ]
  },
  {
   "cell_type": "code",
   "execution_count": null,
   "id": "f47b09ff",
   "metadata": {},
   "outputs": [
    {
     "data": {
      "application/vnd.jupyter.widget-view+json": {
       "model_id": "6ed20c75be0e4848ae104161e166c22b",
       "version_major": 2,
       "version_minor": 0
      },
      "text/plain": [
       "  0%|          | 0/25 [00:00<?, ?it/s]"
      ]
     },
     "metadata": {},
     "output_type": "display_data"
    },
    {
     "name": "stdout",
     "output_type": "stream",
     "text": [
      "Loaded 121 files\n",
      "Loaded 82 rows\n"
     ]
    }
   ],
   "source": [
    "reps = 25\n",
    "results = []\n",
    "\n",
    "for i in tqdm( range( reps ) ):\n",
    "    results.append( Minimizer.Minimizer().fit( data['density'], data['label_idx'], howmany=100 ) )"
   ]
  },
  {
   "cell_type": "code",
   "execution_count": null,
   "id": "6fe0c36c",
   "metadata": {},
   "outputs": [
    {
     "name": "stdout",
     "output_type": "stream",
     "text": [
      "Saved as results/fits001\n"
     ]
    },
    {
     "data": {
      "text/plain": [
       "'results/fits001'"
      ]
     },
     "execution_count": 49,
     "metadata": {},
     "output_type": "execute_result"
    }
   ],
   "source": [
    "saveToCsv( { 'f_e': [ x[0] for x in results ], 'T_e': [ x[1] for x in results ] }, basename = \"results/avgfits\" )"
   ]
  },
  {
   "cell_type": "code",
   "execution_count": null,
   "id": "f87a45a6",
   "metadata": {},
   "outputs": [
    {
     "data": {
      "image/png": "[encoded data removed]",
      "text/plain": [
       "<Figure size 640x480 with 1 Axes>"
      ]
     },
     "metadata": {},
     "output_type": "display_data"
    }
   ],
   "source": [
    "plt.plot( *np.mean( results, axis = 0), 'go', label = 'Average +/- 1 std' )\n",
    "confel.confidence_ellipse( results, facecolor='g' )\n",
    "for x,y in results:\n",
    "    plt.plot( x,y, '.', color='tab:blue' )\n",
    "\n",
    "# plt.xlabel(\"f_e\")\n",
    "# plt.ylabel(\"T_e [eV]\")\n",
    "\n",
    "# splt.export( filename + \"_differentresults\" )"
   ]
  },
  {
   "cell_type": "code",
   "execution_count": null,
   "id": "d9ae4255",
   "metadata": {},
   "outputs": [],
   "source": []
  },
  {
   "cell_type": "code",
   "execution_count": null,
   "id": "22ea7393",
   "metadata": {},
   "outputs": [],
   "source": []
  }
 ],
 "metadata": {
  "kernelspec": {
   "display_name": "base",
   "language": "python",
   "name": "python3"
  },
  "language_info": {
   "codemirror_mode": {
    "name": "ipython",
    "version": 3
   },
   "file_extension": ".py",
   "mimetype": "text/x-python",
   "name": "python",
   "nbconvert_exporter": "python",
   "pygments_lexer": "ipython3",
   "version": "3.11.10"
  }
 },
 "nbformat": 4,
 "nbformat_minor": 5
}
